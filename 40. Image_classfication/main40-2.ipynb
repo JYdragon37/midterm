{
 "cells": [
  {
   "cell_type": "code",
   "execution_count": null,
   "metadata": {},
   "outputs": [
    {
     "name": "stdout",
     "output_type": "stream",
     "text": [
      "Error processing C:\\Users\\highk\\pypy50\\40. 이미지 분류 - 파이토치\\user_faces\\DSC00100.JPG: name 'transforms' is not defined\n",
      "Error processing C:\\Users\\highk\\pypy50\\40. 이미지 분류 - 파이토치\\user_faces\\DSC00101.JPG: name 'transforms' is not defined\n",
      "Error processing C:\\Users\\highk\\pypy50\\40. 이미지 분류 - 파이토치\\user_faces\\DSC00102.JPG: name 'transforms' is not defined\n",
      "Error processing C:\\Users\\highk\\pypy50\\40. 이미지 분류 - 파이토치\\user_faces\\DSC04280.JPG: name 'transforms' is not defined\n",
      "Error processing C:\\Users\\highk\\pypy50\\40. 이미지 분류 - 파이토치\\user_faces\\DSC04281.JPG: name 'transforms' is not defined\n",
      "Error processing C:\\Users\\highk\\pypy50\\40. 이미지 분류 - 파이토치\\user_faces\\DSC04282.JPG: name 'transforms' is not defined\n",
      "Error processing C:\\Users\\highk\\pypy50\\40. 이미지 분류 - 파이토치\\user_faces\\DSC04283.JPG: name 'transforms' is not defined\n",
      "Error processing C:\\Users\\highk\\pypy50\\40. 이미지 분류 - 파이토치\\user_faces\\DSC04284.JPG: name 'transforms' is not defined\n",
      "Error processing C:\\Users\\highk\\pypy50\\40. 이미지 분류 - 파이토치\\user_faces\\DSC04286.JPG: name 'transforms' is not defined\n",
      "Error processing C:\\Users\\highk\\pypy50\\40. 이미지 분류 - 파이토치\\user_faces\\DSC04287.JPG: name 'transforms' is not defined\n",
      "Error processing C:\\Users\\highk\\pypy50\\40. 이미지 분류 - 파이토치\\user_faces\\DSC04288.JPG: name 'transforms' is not defined\n"
     ]
    },
    {
     "ename": "KeyboardInterrupt",
     "evalue": "",
     "output_type": "error",
     "traceback": [
      "\u001b[1;31m---------------------------------------------------------------------------\u001b[0m",
      "\u001b[1;31mKeyboardInterrupt\u001b[0m                         Traceback (most recent call last)",
      "Cell \u001b[1;32mIn[2], line 25\u001b[0m\n\u001b[0;32m     23\u001b[0m input_user_faces \u001b[38;5;241m=\u001b[39m \u001b[38;5;124mr\u001b[39m\u001b[38;5;124m\"\u001b[39m\u001b[38;5;124mC:\u001b[39m\u001b[38;5;124m\\\u001b[39m\u001b[38;5;124mUsers\u001b[39m\u001b[38;5;124m\\\u001b[39m\u001b[38;5;124mhighk\u001b[39m\u001b[38;5;124m\\\u001b[39m\u001b[38;5;124mpypy50\u001b[39m\u001b[38;5;124m\\\u001b[39m\u001b[38;5;124m40. 이미지 분류 - 파이토치\u001b[39m\u001b[38;5;124m\\\u001b[39m\u001b[38;5;124muser_faces\u001b[39m\u001b[38;5;124m\"\u001b[39m\n\u001b[0;32m     24\u001b[0m output_processed_faces \u001b[38;5;241m=\u001b[39m \u001b[38;5;124mr\u001b[39m\u001b[38;5;124m\"\u001b[39m\u001b[38;5;124mC:\u001b[39m\u001b[38;5;124m\\\u001b[39m\u001b[38;5;124mUsers\u001b[39m\u001b[38;5;124m\\\u001b[39m\u001b[38;5;124mhighk\u001b[39m\u001b[38;5;124m\\\u001b[39m\u001b[38;5;124mpypy50\u001b[39m\u001b[38;5;124m\\\u001b[39m\u001b[38;5;124m40. 이미지 분류 - 파이토치\u001b[39m\u001b[38;5;124m\\\u001b[39m\u001b[38;5;124mdataset\u001b[39m\u001b[38;5;124m\\\u001b[39m\u001b[38;5;124muser\u001b[39m\u001b[38;5;124m\"\u001b[39m\n\u001b[1;32m---> 25\u001b[0m extract_faces(input_user_faces, output_processed_faces)\n",
      "Cell \u001b[1;32mIn[2], line 14\u001b[0m, in \u001b[0;36mextract_faces\u001b[1;34m(input_folder, output_folder)\u001b[0m\n\u001b[0;32m     12\u001b[0m \u001b[38;5;28;01mtry\u001b[39;00m:\n\u001b[0;32m     13\u001b[0m     img \u001b[38;5;241m=\u001b[39m Image\u001b[38;5;241m.\u001b[39mopen(img_full_path)\u001b[38;5;241m.\u001b[39mconvert(\u001b[38;5;124m\"\u001b[39m\u001b[38;5;124mRGB\u001b[39m\u001b[38;5;124m\"\u001b[39m)\n\u001b[1;32m---> 14\u001b[0m     face \u001b[38;5;241m=\u001b[39m mtcnn(img)  \u001b[38;5;66;03m# 얼굴 감지 및 추출\u001b[39;00m\n\u001b[0;32m     15\u001b[0m     \u001b[38;5;28;01mif\u001b[39;00m face \u001b[38;5;129;01mis\u001b[39;00m \u001b[38;5;129;01mnot\u001b[39;00m \u001b[38;5;28;01mNone\u001b[39;00m:\n\u001b[0;32m     16\u001b[0m         \u001b[38;5;66;03m# Tensor를 PIL 이미지로 변환\u001b[39;00m\n\u001b[0;32m     17\u001b[0m         face_img \u001b[38;5;241m=\u001b[39m transforms\u001b[38;5;241m.\u001b[39mToPILImage()(face)\n",
      "File \u001b[1;32mc:\\Users\\highk\\anaconda3\\Lib\\site-packages\\torch\\nn\\modules\\module.py:1511\u001b[0m, in \u001b[0;36mModule._wrapped_call_impl\u001b[1;34m(self, *args, **kwargs)\u001b[0m\n\u001b[0;32m   1509\u001b[0m     \u001b[38;5;28;01mreturn\u001b[39;00m \u001b[38;5;28mself\u001b[39m\u001b[38;5;241m.\u001b[39m_compiled_call_impl(\u001b[38;5;241m*\u001b[39margs, \u001b[38;5;241m*\u001b[39m\u001b[38;5;241m*\u001b[39mkwargs)  \u001b[38;5;66;03m# type: ignore[misc]\u001b[39;00m\n\u001b[0;32m   1510\u001b[0m \u001b[38;5;28;01melse\u001b[39;00m:\n\u001b[1;32m-> 1511\u001b[0m     \u001b[38;5;28;01mreturn\u001b[39;00m \u001b[38;5;28mself\u001b[39m\u001b[38;5;241m.\u001b[39m_call_impl(\u001b[38;5;241m*\u001b[39margs, \u001b[38;5;241m*\u001b[39m\u001b[38;5;241m*\u001b[39mkwargs)\n",
      "File \u001b[1;32mc:\\Users\\highk\\anaconda3\\Lib\\site-packages\\torch\\nn\\modules\\module.py:1520\u001b[0m, in \u001b[0;36mModule._call_impl\u001b[1;34m(self, *args, **kwargs)\u001b[0m\n\u001b[0;32m   1515\u001b[0m \u001b[38;5;66;03m# If we don't have any hooks, we want to skip the rest of the logic in\u001b[39;00m\n\u001b[0;32m   1516\u001b[0m \u001b[38;5;66;03m# this function, and just call forward.\u001b[39;00m\n\u001b[0;32m   1517\u001b[0m \u001b[38;5;28;01mif\u001b[39;00m \u001b[38;5;129;01mnot\u001b[39;00m (\u001b[38;5;28mself\u001b[39m\u001b[38;5;241m.\u001b[39m_backward_hooks \u001b[38;5;129;01mor\u001b[39;00m \u001b[38;5;28mself\u001b[39m\u001b[38;5;241m.\u001b[39m_backward_pre_hooks \u001b[38;5;129;01mor\u001b[39;00m \u001b[38;5;28mself\u001b[39m\u001b[38;5;241m.\u001b[39m_forward_hooks \u001b[38;5;129;01mor\u001b[39;00m \u001b[38;5;28mself\u001b[39m\u001b[38;5;241m.\u001b[39m_forward_pre_hooks\n\u001b[0;32m   1518\u001b[0m         \u001b[38;5;129;01mor\u001b[39;00m _global_backward_pre_hooks \u001b[38;5;129;01mor\u001b[39;00m _global_backward_hooks\n\u001b[0;32m   1519\u001b[0m         \u001b[38;5;129;01mor\u001b[39;00m _global_forward_hooks \u001b[38;5;129;01mor\u001b[39;00m _global_forward_pre_hooks):\n\u001b[1;32m-> 1520\u001b[0m     \u001b[38;5;28;01mreturn\u001b[39;00m forward_call(\u001b[38;5;241m*\u001b[39margs, \u001b[38;5;241m*\u001b[39m\u001b[38;5;241m*\u001b[39mkwargs)\n\u001b[0;32m   1522\u001b[0m \u001b[38;5;28;01mtry\u001b[39;00m:\n\u001b[0;32m   1523\u001b[0m     result \u001b[38;5;241m=\u001b[39m \u001b[38;5;28;01mNone\u001b[39;00m\n",
      "File \u001b[1;32mc:\\Users\\highk\\anaconda3\\Lib\\site-packages\\facenet_pytorch\\models\\mtcnn.py:258\u001b[0m, in \u001b[0;36mMTCNN.forward\u001b[1;34m(self, img, save_path, return_prob)\u001b[0m\n\u001b[0;32m    227\u001b[0m \u001b[38;5;250m\u001b[39m\u001b[38;5;124;03m\"\"\"Run MTCNN face detection on a PIL image or numpy array. This method performs both\u001b[39;00m\n\u001b[0;32m    228\u001b[0m \u001b[38;5;124;03mdetection and extraction of faces, returning tensors representing detected faces rather\u001b[39;00m\n\u001b[0;32m    229\u001b[0m \u001b[38;5;124;03mthan the bounding boxes. To access bounding boxes, see the MTCNN.detect() method below.\u001b[39;00m\n\u001b[1;32m   (...)\u001b[0m\n\u001b[0;32m    254\u001b[0m \u001b[38;5;124;03m>>> face_tensor, prob = mtcnn(img, save_path='face.png', return_prob=True)\u001b[39;00m\n\u001b[0;32m    255\u001b[0m \u001b[38;5;124;03m\"\"\"\u001b[39;00m\n\u001b[0;32m    257\u001b[0m \u001b[38;5;66;03m# Detect faces\u001b[39;00m\n\u001b[1;32m--> 258\u001b[0m batch_boxes, batch_probs, batch_points \u001b[38;5;241m=\u001b[39m \u001b[38;5;28mself\u001b[39m\u001b[38;5;241m.\u001b[39mdetect(img, landmarks\u001b[38;5;241m=\u001b[39m\u001b[38;5;28;01mTrue\u001b[39;00m)\n\u001b[0;32m    259\u001b[0m \u001b[38;5;66;03m# Select faces\u001b[39;00m\n\u001b[0;32m    260\u001b[0m \u001b[38;5;28;01mif\u001b[39;00m \u001b[38;5;129;01mnot\u001b[39;00m \u001b[38;5;28mself\u001b[39m\u001b[38;5;241m.\u001b[39mkeep_all:\n",
      "File \u001b[1;32mc:\\Users\\highk\\anaconda3\\Lib\\site-packages\\facenet_pytorch\\models\\mtcnn.py:313\u001b[0m, in \u001b[0;36mMTCNN.detect\u001b[1;34m(self, img, landmarks)\u001b[0m\n\u001b[0;32m    273\u001b[0m \u001b[38;5;250m\u001b[39m\u001b[38;5;124;03m\"\"\"Detect all faces in PIL image and return bounding boxes and optional facial landmarks.\u001b[39;00m\n\u001b[0;32m    274\u001b[0m \n\u001b[0;32m    275\u001b[0m \u001b[38;5;124;03mThis method is used by the forward method and is also useful for face detection tasks\u001b[39;00m\n\u001b[1;32m   (...)\u001b[0m\n\u001b[0;32m    309\u001b[0m \u001b[38;5;124;03m>>> img_draw.save('annotated_faces.png')\u001b[39;00m\n\u001b[0;32m    310\u001b[0m \u001b[38;5;124;03m\"\"\"\u001b[39;00m\n\u001b[0;32m    312\u001b[0m \u001b[38;5;28;01mwith\u001b[39;00m torch\u001b[38;5;241m.\u001b[39mno_grad():\n\u001b[1;32m--> 313\u001b[0m     batch_boxes, batch_points \u001b[38;5;241m=\u001b[39m detect_face(\n\u001b[0;32m    314\u001b[0m         img, \u001b[38;5;28mself\u001b[39m\u001b[38;5;241m.\u001b[39mmin_face_size,\n\u001b[0;32m    315\u001b[0m         \u001b[38;5;28mself\u001b[39m\u001b[38;5;241m.\u001b[39mpnet, \u001b[38;5;28mself\u001b[39m\u001b[38;5;241m.\u001b[39mrnet, \u001b[38;5;28mself\u001b[39m\u001b[38;5;241m.\u001b[39monet,\n\u001b[0;32m    316\u001b[0m         \u001b[38;5;28mself\u001b[39m\u001b[38;5;241m.\u001b[39mthresholds, \u001b[38;5;28mself\u001b[39m\u001b[38;5;241m.\u001b[39mfactor,\n\u001b[0;32m    317\u001b[0m         \u001b[38;5;28mself\u001b[39m\u001b[38;5;241m.\u001b[39mdevice\n\u001b[0;32m    318\u001b[0m     )\n\u001b[0;32m    320\u001b[0m boxes, probs, points \u001b[38;5;241m=\u001b[39m [], [], []\n\u001b[0;32m    321\u001b[0m \u001b[38;5;28;01mfor\u001b[39;00m box, point \u001b[38;5;129;01min\u001b[39;00m \u001b[38;5;28mzip\u001b[39m(batch_boxes, batch_points):\n",
      "File \u001b[1;32mc:\\Users\\highk\\anaconda3\\Lib\\site-packages\\facenet_pytorch\\models\\utils\\detect_face.py:112\u001b[0m, in \u001b[0;36mdetect_face\u001b[1;34m(imgs, minsize, pnet, rnet, onet, threshold, factor, device)\u001b[0m\n\u001b[0;32m    110\u001b[0m     \u001b[38;5;28;01mif\u001b[39;00m ey[k] \u001b[38;5;241m>\u001b[39m (y[k] \u001b[38;5;241m-\u001b[39m \u001b[38;5;241m1\u001b[39m) \u001b[38;5;129;01mand\u001b[39;00m ex[k] \u001b[38;5;241m>\u001b[39m (x[k] \u001b[38;5;241m-\u001b[39m \u001b[38;5;241m1\u001b[39m):\n\u001b[0;32m    111\u001b[0m         img_k \u001b[38;5;241m=\u001b[39m imgs[image_inds[k], :, (y[k] \u001b[38;5;241m-\u001b[39m \u001b[38;5;241m1\u001b[39m):ey[k], (x[k] \u001b[38;5;241m-\u001b[39m \u001b[38;5;241m1\u001b[39m):ex[k]]\u001b[38;5;241m.\u001b[39munsqueeze(\u001b[38;5;241m0\u001b[39m)\n\u001b[1;32m--> 112\u001b[0m         im_data\u001b[38;5;241m.\u001b[39mappend(imresample(img_k, (\u001b[38;5;241m24\u001b[39m, \u001b[38;5;241m24\u001b[39m)))\n\u001b[0;32m    113\u001b[0m im_data \u001b[38;5;241m=\u001b[39m torch\u001b[38;5;241m.\u001b[39mcat(im_data, dim\u001b[38;5;241m=\u001b[39m\u001b[38;5;241m0\u001b[39m)\n\u001b[0;32m    114\u001b[0m im_data \u001b[38;5;241m=\u001b[39m (im_data \u001b[38;5;241m-\u001b[39m \u001b[38;5;241m127.5\u001b[39m) \u001b[38;5;241m*\u001b[39m \u001b[38;5;241m0.0078125\u001b[39m\n",
      "File \u001b[1;32mc:\\Users\\highk\\anaconda3\\Lib\\site-packages\\facenet_pytorch\\models\\utils\\detect_face.py:304\u001b[0m, in \u001b[0;36mimresample\u001b[1;34m(img, sz)\u001b[0m\n\u001b[0;32m    299\u001b[0m     bboxA[:, \u001b[38;5;241m2\u001b[39m:\u001b[38;5;241m4\u001b[39m] \u001b[38;5;241m=\u001b[39m bboxA[:, :\u001b[38;5;241m2\u001b[39m] \u001b[38;5;241m+\u001b[39m l\u001b[38;5;241m.\u001b[39mrepeat(\u001b[38;5;241m2\u001b[39m, \u001b[38;5;241m1\u001b[39m)\u001b[38;5;241m.\u001b[39mpermute(\u001b[38;5;241m1\u001b[39m, \u001b[38;5;241m0\u001b[39m)\n\u001b[0;32m    301\u001b[0m     \u001b[38;5;28;01mreturn\u001b[39;00m bboxA\n\u001b[1;32m--> 304\u001b[0m \u001b[38;5;28;01mdef\u001b[39;00m \u001b[38;5;21mimresample\u001b[39m(img, sz):\n\u001b[0;32m    305\u001b[0m     im_data \u001b[38;5;241m=\u001b[39m interpolate(img, size\u001b[38;5;241m=\u001b[39msz, mode\u001b[38;5;241m=\u001b[39m\u001b[38;5;124m\"\u001b[39m\u001b[38;5;124marea\u001b[39m\u001b[38;5;124m\"\u001b[39m)\n\u001b[0;32m    306\u001b[0m     \u001b[38;5;28;01mreturn\u001b[39;00m im_data\n",
      "\u001b[1;31mKeyboardInterrupt\u001b[0m: "
     ]
    },
    {
     "ename": "",
     "evalue": "",
     "output_type": "error",
     "traceback": [
      "\u001b[1;31m현재 셀 또는 이전 셀에서 코드를 실행하는 동안 Kernel이 충돌했습니다. \n",
      "\u001b[1;31m셀의 코드를 검토하여 가능한 오류 원인을 식별하세요. \n",
      "\u001b[1;31m자세한 내용을 보려면 <a href='https://aka.ms/vscodeJupyterKernelCrash'>여기</a>를 클릭하세요. \n",
      "\u001b[1;31m자세한 내용은 Jupyter <a href='command:jupyter.viewOutput'>로그</a>를 참조하세요."
     ]
    }
   ],
   "source": [
    "from facenet_pytorch import MTCNN\n",
    "from PIL import Image\n",
    "import torch\n",
    "import os\n",
    "\n",
    "def extract_faces(input_folder, output_folder):\n",
    "    mtcnn = MTCNN(keep_all=False)  # 단일 얼굴 감지\n",
    "    os.makedirs(output_folder, exist_ok=True)\n",
    "\n",
    "    for img_path in os.listdir(input_folder):\n",
    "        img_full_path = os.path.join(input_folder, img_path)\n",
    "        try:\n",
    "            img = Image.open(img_full_path).convert(\"RGB\")\n",
    "            face = mtcnn(img)  # 얼굴 감지 및 추출\n",
    "            if face is not None:\n",
    "                # Tensor를 PIL 이미지로 변환\n",
    "                face_img = transforms.ToPILImage()(face)\n",
    "                face_img.save(os.path.join(output_folder, img_path))\n",
    "        except Exception as e:\n",
    "            print(f\"Error processing {img_full_path}: {e}\")\n",
    "\n",
    "# 사용자 얼굴 크롭\n",
    "input_user_faces = r\"C:\\Users\\highk\\pypy50\\40. 이미지 분류 - 파이토치\\user_faces\"\n",
    "output_processed_faces = r\"C:\\Users\\highk\\pypy50\\40. 이미지 분류 - 파이토치\\dataset\\user\"\n",
    "extract_faces(input_user_faces, output_processed_faces)\n"
   ]
  }
 ],
 "metadata": {
  "kernelspec": {
   "display_name": "base",
   "language": "python",
   "name": "python3"
  },
  "language_info": {
   "codemirror_mode": {
    "name": "ipython",
    "version": 3
   },
   "file_extension": ".py",
   "mimetype": "text/x-python",
   "name": "python",
   "nbconvert_exporter": "python",
   "pygments_lexer": "ipython3",
   "version": "3.12.3"
  }
 },
 "nbformat": 4,
 "nbformat_minor": 2
}
