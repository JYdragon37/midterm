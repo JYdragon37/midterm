{
 "cells": [
  {
   "cell_type": "code",
   "execution_count": null,
   "metadata": {},
   "outputs": [],
   "source": []
  },
  {
   "cell_type": "code",
   "execution_count": 12,
   "metadata": {},
   "outputs": [
    {
     "name": "stdout",
     "output_type": "stream",
     "text": [
      "안녕하세요, 구글 이미지 크롤링 프로젝트를 시작합니다!\n",
      "크롬 드라이버가 설정되었습니다.\n",
      "구글 이미지 검색 페이지에 접속했습니다.\n",
      "'파이썬' 검색을 실행했습니다.\n"
     ]
    }
   ],
   "source": [
    "# 구글 이미지를 크롤링하는 코드 작성 (셀레니엄 및 웹드라이버 매니저 이용)\n",
    "import time\n",
    "from selenium import webdriver\n",
    "from selenium.webdriver.common.keys import Keys\n",
    "from webdriver_manager.chrome import ChromeDriverManager\n",
    "from selenium.webdriver.chrome.service import Service\n",
    "from selenium.webdriver.common.by import By\n",
    "from selenium.webdriver.chrome.options import Options\n",
    "\n",
    "def greet_user():\n",
    "    print(\"안녕하세요, 구글 이미지 크롤링 프로젝트를 시작합니다!\")\n",
    "\n",
    "# 크롬 드라이버 설정 함수\n",
    "def setup_chrome_driver():\n",
    "    chrome_options = Options()\n",
    "    # chrome_options.add_argument(\"--headless\")  # 이 줄을 주석 처리하여 브라우저 창을 보이도록 합니다.\n",
    "    service = Service(ChromeDriverManager().install())\n",
    "    driver = webdriver.Chrome(service=service, options=chrome_options)\n",
    "    print(\"크롬 드라이버가 설정되었습니다.\")  # 확인용 출력 추가\n",
    "    return driver\n",
    "\n",
    "# 구글 이미지 검색어 입력 함수\n",
    "def search_google_images(driver, search_query):\n",
    "    try:\n",
    "        driver.get(\"https://www.google.com/imghp\")\n",
    "        print(\"구글 이미지 검색 페이지에 접속했습니다.\")\n",
    "        \n",
    "        search_box = driver.find_element(By.NAME, \"q\")\n",
    "        search_box.send_keys(search_query)\n",
    "        search_box.send_keys(Keys.RETURN)\n",
    "        print(f\"'{search_query}' 검색을 실행했습니다.\")\n",
    "        time.sleep(2)\n",
    "    except Exception as e:\n",
    "        print(f\"검색어 입력 중 오류 발생: {e}\")\n",
    "\n",
    "if __name__ == \"__main__\":\n",
    "    greet_user()\n",
    "    driver = setup_chrome_driver()\n",
    "    search_google_images(driver, \"파이썬\")\n"
   ]
  }
 ],
 "metadata": {
  "kernelspec": {
   "display_name": "base",
   "language": "python",
   "name": "python3"
  },
  "language_info": {
   "codemirror_mode": {
    "name": "ipython",
    "version": 3
   },
   "file_extension": ".py",
   "mimetype": "text/x-python",
   "name": "python",
   "nbconvert_exporter": "python",
   "pygments_lexer": "ipython3",
   "version": "3.12.7"
  }
 },
 "nbformat": 4,
 "nbformat_minor": 2
}
